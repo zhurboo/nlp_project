{
 "cells": [
  {
   "cell_type": "code",
   "execution_count": 2,
   "metadata": {},
   "outputs": [],
   "source": [
    "filename1 = 'title_storyline_story/train.txt'\n",
    "filename2 = 'title_storyline/train.txt'\n",
    "with open(filename1, 'rt') as f:\n",
    "    lines = f.readlines()\n",
    "trimmed_lines = []\n",
    "for line in lines:\n",
    "    end = line.find('<EOL>') + 5\n",
    "    trimmed_lines.append(line[:end]+'\\n')\n",
    "with open(filename2, 'wt') as f:\n",
    "    f.writelines(trimmed_lines)\n",
    "\n",
    "\n",
    "filename1 = 'title_storyline_story/valid.txt'\n",
    "filename2 = 'title_storyline/valid.txt'\n",
    "with open(filename1, 'rt') as f:\n",
    "    lines = f.readlines()\n",
    "trimmed_lines = []\n",
    "for line in lines:\n",
    "    end = line.find('<EOL>') + 5\n",
    "    trimmed_lines.append(line[:end]+'\\n')\n",
    "with open(filename2, 'wt') as f:\n",
    "    f.writelines(trimmed_lines)\n",
    "\n",
    "filename1 = 'title_storyline_story/test.txt'\n",
    "filename2 = 'title_storyline/test.txt'\n",
    "with open(filename1, 'rt') as f:\n",
    "    lines = f.readlines()\n",
    "trimmed_lines = []\n",
    "for line in lines:\n",
    "    end = line.find('<EOL>') + 5\n",
    "    trimmed_lines.append(line[:end]+'\\n')\n",
    "with open(filename2, 'wt') as f:\n",
    "    f.writelines(trimmed_lines)"
   ]
  },
  {
   "cell_type": "code",
   "execution_count": 3,
   "metadata": {},
   "outputs": [],
   "source": [
    "filename1 = 'title_storyline_story/train.txt'\n",
    "filename2 = 'title/train.txt'\n",
    "with open(filename1, 'rt') as f:\n",
    "    lines = f.readlines()\n",
    "trimmed_lines = []\n",
    "for line in lines:\n",
    "    end = line.find('<EOT>') + 5\n",
    "    trimmed_lines.append(line[:end]+'\\n')\n",
    "with open(filename2, 'wt') as f:\n",
    "    f.writelines(trimmed_lines)\n",
    "\n",
    "\n",
    "filename1 = 'title_storyline_story/valid.txt'\n",
    "filename2 = 'title/valid.txt'\n",
    "with open(filename1, 'rt') as f:\n",
    "    lines = f.readlines()\n",
    "trimmed_lines = []\n",
    "for line in lines:\n",
    "    end = line.find('<EOT>') + 5\n",
    "    trimmed_lines.append(line[:end]+'\\n')\n",
    "with open(filename2, 'wt') as f:\n",
    "    f.writelines(trimmed_lines)\n",
    "\n",
    "    \n",
    "filename1 = 'title_storyline_story/test.txt'\n",
    "filename2 = 'title/test.txt'\n",
    "with open(filename1, 'rt') as f:\n",
    "    lines = f.readlines()\n",
    "trimmed_lines = []\n",
    "for line in lines:\n",
    "    end = line.find('<EOT>') + 5\n",
    "    trimmed_lines.append(line[:end]+'\\n')\n",
    "with open(filename2, 'wt') as f:\n",
    "    f.writelines(trimmed_lines)"
   ]
  },
  {
   "cell_type": "code",
   "execution_count": 3,
   "metadata": {},
   "outputs": [],
   "source": []
  }
 ],
 "metadata": {
  "kernelspec": {
   "display_name": "Python 3",
   "language": "python",
   "name": "python3"
  },
  "language_info": {
   "codemirror_mode": {
    "name": "ipython",
    "version": 3
   },
   "file_extension": ".py",
   "mimetype": "text/x-python",
   "name": "python",
   "nbconvert_exporter": "python",
   "pygments_lexer": "ipython3",
   "version": "3.6.8"
  }
 },
 "nbformat": 4,
 "nbformat_minor": 2
}

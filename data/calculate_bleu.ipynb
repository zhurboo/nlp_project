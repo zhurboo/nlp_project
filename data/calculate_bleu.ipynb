{
 "cells": [
  {
   "cell_type": "code",
   "execution_count": 5,
   "metadata": {},
   "outputs": [],
   "source": [
    "from nltk.translate.bleu_score import sentence_bleu\n",
    "file_candidate = 'stroys_out3.txt'\n",
    "file_reference = 'title_storyline_story/test.txt'"
   ]
  },
  {
   "cell_type": "code",
   "execution_count": 6,
   "metadata": {},
   "outputs": [
    {
     "name": "stdout",
     "output_type": "stream",
     "text": [
      "Reference[0]        : </s> kim awoke to find the ground covered with snow . </s> she ran outside with her big brother . </s> he laid in the snow and kicked his legs . </s> when he stood up there was a snow angel in the snow . </s> they stayed in the yard making angels the whole day .\n",
      "\n",
      "Candidate[0]        : </s> my daughter had just arrived in town to get a call from her mom . </s> she had to call a tow truck to come to work . </s> she had to wait to be in the car for a long time . </s> when she came back to her car , she saw her new truck . </s> she was happy to see her car by the door as she drove to the car . \n",
      "\n",
      "0.38552900150985664\n"
     ]
    }
   ],
   "source": [
    "with open(file_candidate, 'rt') as f:\n",
    "    candidate = f.readlines()\n",
    "with open(file_reference, 'rt') as f:\n",
    "    reference = f.readlines()\n",
    "for i, ref in enumerate(reference):\n",
    "    reference[i] = ref[ref.find('<EOL>')+6:]\n",
    "print('{:<20}:'.format('Reference[0]'), reference[0])\n",
    "print('{:<20}:'.format('Candidate[0]'), candidate[0])\n",
    "bleu = 0\n",
    "for i in range(len(reference)):\n",
    "    bleu += sentence_bleu([reference[i]], candidate[i])\n",
    "bleu /= len(reference)\n",
    "print(bleu)"
   ]
  },
  {
   "cell_type": "code",
   "execution_count": 7,
   "metadata": {},
   "outputs": [
    {
     "name": "stdout",
     "output_type": "stream",
     "text": [
      "Reference[0]        :  kim awoke to find the ground covered with snow .  she ran outside with her big brother .  he laid in the snow and kicked his legs .  when he stood up there was a snow angel in the snow .  they stayed in the yard making angels the whole day .\n",
      "\n",
      "Candidate[0]        :  my daughter had just arrived in town to get a call from her mom .  she had to call a tow truck to come to work .  she had to wait to be in the car for a long time .  when she came back to her car , she saw her new truck .  she was happy to see her car by the door as she drove to the car . \n",
      "\n",
      "0.32433365282256466\n"
     ]
    }
   ],
   "source": [
    "with open(file_candidate, 'rt') as f:\n",
    "    candidate = f.readlines()\n",
    "with open(file_reference, 'rt') as f:\n",
    "    reference = f.readlines()\n",
    "for i, can in enumerate(candidate):\n",
    "    candidate[i] = ''.join(can.split('</s>'))\n",
    "for i, ref in enumerate(reference):\n",
    "    reference[i] = ''.join(ref[ref.find('<EOL>')+6:].split('</s>'))\n",
    "print('{:<20}:'.format('Reference[0]'), reference[0])\n",
    "print('{:<20}:'.format('Candidate[0]'), candidate[0])\n",
    "bleu = 0\n",
    "for i in range(len(reference)):\n",
    "    bleu += sentence_bleu([reference[i]], candidate[i])\n",
    "bleu /= len(reference)\n",
    "print(bleu)"
   ]
  },
  {
   "cell_type": "code",
   "execution_count": 8,
   "metadata": {},
   "outputs": [
    {
     "name": "stdout",
     "output_type": "stream",
     "text": [
      "Reference[0]        :  kim awoke to find the ground covered with snow . \n",
      "Candidate[0]        :  my daughter had just arrived in town to get a call from her mom . \n",
      "0.11255350813295927\n"
     ]
    }
   ],
   "source": [
    "candidate = []\n",
    "reference = []\n",
    "with open(file_candidate, 'rt') as f:\n",
    "    for line in f.readlines():\n",
    "        candidate.extend(line.split('</s>')[1:])\n",
    "        candidate[-1] = candidate[-1].split('\\n')[0]\n",
    "\n",
    "with open(file_reference, 'rt') as f:\n",
    "    for line in f.readlines():\n",
    "        reference.extend(line[line.find('<EOL>')+6:].split('</s>')[1:])\n",
    "        reference[-1] = reference[-1].split('\\n')[0]\n",
    "print('{:<20}:'.format('Reference[0]'), reference[0])\n",
    "print('{:<20}:'.format('Candidate[0]'), candidate[0])\n",
    "bleu = 0\n",
    "for i in range(len(reference)):\n",
    "    bleu += sentence_bleu([reference[i]], candidate[i])\n",
    "bleu /= len(reference)\n",
    "print(bleu)"
   ]
  },
  {
   "cell_type": "code",
   "execution_count": null,
   "metadata": {},
   "outputs": [],
   "source": []
  }
 ],
 "metadata": {
  "kernelspec": {
   "display_name": "Python 3",
   "language": "python",
   "name": "python3"
  },
  "language_info": {
   "codemirror_mode": {
    "name": "ipython",
    "version": 3
   },
   "file_extension": ".py",
   "mimetype": "text/x-python",
   "name": "python",
   "nbconvert_exporter": "python",
   "pygments_lexer": "ipython3",
   "version": "3.6.8"
  }
 },
 "nbformat": 4,
 "nbformat_minor": 2
}

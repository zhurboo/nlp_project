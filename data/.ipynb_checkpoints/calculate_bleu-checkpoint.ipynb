{
 "cells": [
  {
   "cell_type": "code",
   "execution_count": 8,
   "metadata": {},
   "outputs": [
    {
     "name": "stdout",
     "output_type": "stream",
     "text": [
      "Reference[0]        :  kim awoke to find the ground covered with snow .  she ran outside with her big brother .  he laid in the snow and kicked his legs .  when he stood up there was a snow angel in the snow .  they stayed in the yard making angels the whole day .\n",
      "\n",
      "Candidate[0]        : <EOL>  amy was in the car with her friends .  she was in the car and found a place to walk .  she was walking down the street when she noticed a man .  she ran up and asked to stop .  they both had a great time . \n",
      "\n",
      "0.32356313730690095\n"
     ]
    }
   ],
   "source": [
    "from nltk.translate.bleu_score import sentence_bleu\n",
    "import sys\n",
    "if __name__ == '__main__':\n",
    "    file_candidate = 'stroys_out.txt'\n",
    "    file_reference = 'title_storyline_story/test.txt'\n",
    "    with open(file_candidate, 'rt') as f:\n",
    "        candidate = f.readlines()\n",
    "    with open(file_reference, 'rt') as f:\n",
    "        reference = f.readlines()\n",
    "    for i, can in enumerate(candidate):\n",
    "        candidate[i] = ''.join(can.split('</s>'))\n",
    "    for i, ref in enumerate(reference):\n",
    "        reference[i] = ''.join(ref[ref.find('<EOL>')+6:].split('</s>'))\n",
    "    print('{:<20}:'.format('Reference[0]'), reference[0])\n",
    "    print('{:<20}:'.format('Candidate[0]'), candidate[0])\n",
    "    bleu = 0\n",
    "    for i in range(len(reference)):\n",
    "        bleu += sentence_bleu([reference[i]], candidate[i])\n",
    "    bleu /= len(reference)\n",
    "    print(bleu)\n"
   ]
  },
  {
   "cell_type": "code",
   "execution_count": 2,
   "metadata": {},
   "outputs": [
    {
     "name": "stdout",
     "output_type": "stream",
     "text": [
      "Looking in indexes: https://pypi.tuna.tsinghua.edu.cn/simple\n",
      "Collecting nltk\n",
      "\u001b[?25l  Downloading https://pypi.tuna.tsinghua.edu.cn/packages/f6/1d/d925cfb4f324ede997f6d47bea4d9babba51b49e87a767c170b77005889d/nltk-3.4.5.zip (1.5MB)\n",
      "\u001b[K     |████████████████████████████████| 1.5MB 14.4MB/s eta 0:00:01\n",
      "\u001b[?25hRequirement already satisfied: six in /usr/lib/python3/dist-packages (from nltk) (1.11.0)\n",
      "Building wheels for collected packages: nltk\n",
      "  Building wheel for nltk (setup.py) ... \u001b[?25ldone\n",
      "\u001b[?25h  Created wheel for nltk: filename=nltk-3.4.5-cp36-none-any.whl size=1450719 sha256=785cd29709add73600f533b5ba78bfefabccf107b2e7f9868821fd38e626d5bc\n",
      "  Stored in directory: /root/.cache/pip/wheels/bd/e1/05/dc3530d70790416315b9e4f889ec29e59130a01ac9ce6fab29\n",
      "Successfully built nltk\n",
      "Installing collected packages: nltk\n",
      "Successfully installed nltk-3.4.5\n"
     ]
    }
   ],
   "source": []
  },
  {
   "cell_type": "code",
   "execution_count": null,
   "metadata": {},
   "outputs": [],
   "source": []
  }
 ],
 "metadata": {
  "kernelspec": {
   "display_name": "Python 3",
   "language": "python",
   "name": "python3"
  },
  "language_info": {
   "codemirror_mode": {
    "name": "ipython",
    "version": 3
   },
   "file_extension": ".py",
   "mimetype": "text/x-python",
   "name": "python",
   "nbconvert_exporter": "python",
   "pygments_lexer": "ipython3",
   "version": "3.6.8"
  }
 },
 "nbformat": 4,
 "nbformat_minor": 2
}

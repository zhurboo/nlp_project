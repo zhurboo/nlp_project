{
 "cells": [
  {
   "cell_type": "code",
   "execution_count": null,
   "metadata": {},
   "outputs": [],
   "source": [
    "from nltk.translate.bleu_score import sentence_bleu\n",
    "file_candidate = 'stroys_out2.txt'\n",
    "file_reference = 'title_storyline_story/test.txt'"
   ]
  },
  {
   "cell_type": "code",
   "execution_count": null,
   "metadata": {},
   "outputs": [],
   "source": [
    "with open(file_candidate, 'rt') as f:\n",
    "    candidate = f.readlines()\n",
    "with open(file_reference, 'rt') as f:\n",
    "    reference = f.readlines()\n",
    "for i, ref in enumerate(reference):\n",
    "    reference[i] = ref[ref.find('<EOL>')+6:]\n",
    "print('{:<20}:'.format('Reference[0]'), reference[0])\n",
    "print('{:<20}:'.format('Candidate[0]'), candidate[0])\n",
    "bleu = 0\n",
    "for i in range(len(reference)):\n",
    "    bleu += sentence_bleu([reference[i]], candidate[i])\n",
    "bleu /= len(reference)\n",
    "print(bleu)"
   ]
  },
  {
   "cell_type": "code",
   "execution_count": 3,
   "metadata": {},
   "outputs": [
    {
     "name": "stdout",
     "output_type": "stream",
     "text": [
      "Reference[0]        :  kim awoke to find the ground covered with snow .  she ran outside with her big brother .  he laid in the snow and kicked his legs .  when he stood up there was a snow angel in the snow .  they stayed in the yard making angels the whole day .\n",
      "\n",
      "Candidate[0]        :  i was walking to work .  i had to work on a hot car .  i was n't sure what to do .  i ran to the bathroom and opened the door .  i was able to get a cold shower . \n",
      "\n",
      "0.2973521450929944\n"
     ]
    }
   ],
   "source": [
    "with open(file_candidate, 'rt') as f:\n",
    "    candidate = f.readlines()\n",
    "with open(file_reference, 'rt') as f:\n",
    "    reference = f.readlines()\n",
    "for i, can in enumerate(candidate):\n",
    "    candidate[i] = ''.join(can.split('</s>'))\n",
    "for i, ref in enumerate(reference):\n",
    "    reference[i] = ''.join(ref[ref.find('<EOL>')+6:].split('</s>'))\n",
    "print('{:<20}:'.format('Reference[0]'), reference[0])\n",
    "print('{:<20}:'.format('Candidate[0]'), candidate[0])\n",
    "bleu = 0\n",
    "for i in range(len(reference)):\n",
    "    bleu += sentence_bleu([reference[i]], candidate[i])\n",
    "bleu /= len(reference)\n",
    "print(bleu)"
   ]
  },
  {
   "cell_type": "code",
   "execution_count": 17,
   "metadata": {},
   "outputs": [
    {
     "name": "stdout",
     "output_type": "stream",
     "text": [
      "Reference[0]        :  kim awoke to find the ground covered with snow . \n",
      "Candidate[0]        :  i was walking to work . \n"
     ]
    },
    {
     "name": "stderr",
     "output_type": "stream",
     "text": [
      "/usr/local/lib/python3.6/dist-packages/nltk/translate/bleu_score.py:523: UserWarning: \n",
      "The hypothesis contains 0 counts of 3-gram overlaps.\n",
      "Therefore the BLEU score evaluates to 0, independently of\n",
      "how many N-gram overlaps of lower order it contains.\n",
      "Consider using lower n-gram order or use SmoothingFunction()\n",
      "  warnings.warn(_msg)\n",
      "/usr/local/lib/python3.6/dist-packages/nltk/translate/bleu_score.py:523: UserWarning: \n",
      "The hypothesis contains 0 counts of 2-gram overlaps.\n",
      "Therefore the BLEU score evaluates to 0, independently of\n",
      "how many N-gram overlaps of lower order it contains.\n",
      "Consider using lower n-gram order or use SmoothingFunction()\n",
      "  warnings.warn(_msg)\n"
     ]
    },
    {
     "name": "stdout",
     "output_type": "stream",
     "text": [
      "0.08913084824858526\n"
     ]
    }
   ],
   "source": [
    "candidate = []\n",
    "reference = []\n",
    "with open(file_candidate, 'rt') as f:\n",
    "    for line in f.readlines():\n",
    "        candidate.extend(line.split('</s>')[1:])\n",
    "        candidate[-1] = candidate[-1].split('\\n')[0]\n",
    "\n",
    "with open(file_reference, 'rt') as f:\n",
    "    for line in f.readlines():\n",
    "        reference.extend(line[line.find('<EOL>')+6:].split('</s>')[1:])\n",
    "        reference[-1] = reference[-1].split('\\n')[0]\n",
    "print('{:<20}:'.format('Reference[0]'), reference[0])\n",
    "print('{:<20}:'.format('Candidate[0]'), candidate[0])\n",
    "bleu = 0\n",
    "for i in range(len(reference)):\n",
    "    bleu += sentence_bleu([reference[i]], candidate[i])\n",
    "bleu /= len(reference)\n",
    "print(bleu)"
   ]
  },
  {
   "cell_type": "code",
   "execution_count": null,
   "metadata": {},
   "outputs": [],
   "source": []
  }
 ],
 "metadata": {
  "kernelspec": {
   "display_name": "Python 3",
   "language": "python",
   "name": "python3"
  },
  "language_info": {
   "codemirror_mode": {
    "name": "ipython",
    "version": 3
   },
   "file_extension": ".py",
   "mimetype": "text/x-python",
   "name": "python",
   "nbconvert_exporter": "python",
   "pygments_lexer": "ipython3",
   "version": "3.6.8"
  }
 },
 "nbformat": 4,
 "nbformat_minor": 2
}
